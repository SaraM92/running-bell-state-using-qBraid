{
 "cells": [
  {
   "cell_type": "markdown",
   "id": "777fed66-561a-4781-a583-1d6b1b2e48a6",
   "metadata": {},
   "source": [
    "# Setting up the basics\n",
    "\n",
    "To start things off, let's first choose a circuit to build. To focus more on using qBraid to execute circuits on different devices. So, let's go with a simple circuit that creates the |+> state."
   ]
  },
  {
   "cell_type": "code",
   "execution_count": 1,
   "id": "5290908f-c66d-4536-945d-5ba88c121b90",
   "metadata": {},
   "outputs": [],
   "source": [
    "# general imports\n",
    "import numpy as np\n",
    "import matplotlib.pyplot as plt\n",
    "# magic word for producing visualizations in notebook\n",
    "%matplotlib inline\n",
    "import string\n",
    "import time\n",
    "\n",
    "# AWS imports: Import Braket SDK modules\n",
    "from braket.circuits import Circuit, Gate, Instruction, circuit, Observable\n",
    "from braket.devices import LocalSimulator\n",
    "from braket.aws import AwsDevice, AwsQuantumTask\n",
    "s3_folder = (\"dummy_variable\", \"dummy_variable\")"
   ]
  },
  {
   "cell_type": "markdown",
   "id": "6a5c601e-5d39-41d1-abf4-97e03d4f84dc",
   "metadata": {},
   "source": [
    "In order to access the devices using qBraid, we need to run this line."
   ]
  },
  {
   "cell_type": "code",
   "execution_count": null,
   "id": "b52dff9c-c089-480c-bfb8-a282a813dcb8",
   "metadata": {},
   "outputs": [],
   "source": [
    "!qbraid jobs enable amazon_braket"
   ]
  },
  {
   "cell_type": "markdown",
   "id": "2b7e0338-dab8-484f-9b4c-8e29ee2ac431",
   "metadata": {},
   "source": [
    "That will create the circuit for us. Now, we can write a few lines of code to check the gates on each of the four devices we want to use and the simulator. This just makes sure we are connecting to the devices correctly."
   ]
  },
  {
   "cell_type": "code",
   "execution_count": 2,
   "id": "8d464f3e-1d02-47ed-8eb2-f7a3d1dd3d78",
   "metadata": {},
   "outputs": [
    {
     "name": "stdout",
     "output_type": "stream",
     "text": [
      "Gate set supported by SDK:\n",
      " ['CCNot', 'CNot', 'CPhaseShift', 'CPhaseShift00', 'CPhaseShift01', 'CPhaseShift10', 'CSwap', 'CV', 'CY', 'CZ', 'ECR', 'GPi', 'GPi2', 'H', 'I', 'ISwap', 'MS', 'PSwap', 'PhaseShift', 'PulseGate', 'Rx', 'Ry', 'Rz', 'S', 'Si', 'Swap', 'T', 'Ti', 'Unitary', 'V', 'Vi', 'X', 'XX', 'XY', 'Y', 'YY', 'Z', 'ZZ']\n",
      "\n",
      "\n",
      "Gate set supported by the IonQ device:\n",
      " ['x', 'y', 'z', 'rx', 'ry', 'rz', 'h', 'cnot', 's', 'si', 't', 'ti', 'v', 'vi', 'xx', 'yy', 'zz', 'swap']\n",
      "\n",
      "\n",
      "Gate set supported by the OQC device:\n",
      " ['ccnot', 'cnot', 'cphaseshift', 'cswap', 'cy', 'cz', 'h', 'i', 'phaseshift', 'rx', 'ry', 'rz', 's', 'si', 'swap', 't', 'ti', 'v', 'vi', 'x', 'y', 'z', 'ecr', 'start_verbatim_box', 'end_verbatim_box']\n"
     ]
    },
    {
     "ename": "KeyError",
     "evalue": "'braket.ir.jaqcd.program'",
     "output_type": "error",
     "traceback": [
      "\u001b[0;31m---------------------------------------------------------------------------\u001b[0m",
      "\u001b[0;31mKeyError\u001b[0m                                  Traceback (most recent call last)",
      "Cell \u001b[0;32mIn[2], line 29\u001b[0m\n\u001b[1;32m     27\u001b[0m \u001b[38;5;66;03m#the quEra device\u001b[39;00m\n\u001b[1;32m     28\u001b[0m device \u001b[38;5;241m=\u001b[39m AwsDevice(\u001b[38;5;124m'\u001b[39m\u001b[38;5;124marn:aws:braket:us-east-1::device/qpu/quera/Aquila\u001b[39m\u001b[38;5;124m'\u001b[39m)\n\u001b[0;32m---> 29\u001b[0m supported_gates \u001b[38;5;241m=\u001b[39m \u001b[43mdevice\u001b[49m\u001b[38;5;241;43m.\u001b[39;49m\u001b[43mproperties\u001b[49m\u001b[38;5;241;43m.\u001b[39;49m\u001b[43maction\u001b[49m\u001b[43m[\u001b[49m\u001b[38;5;124;43m'\u001b[39;49m\u001b[38;5;124;43mbraket.ir.jaqcd.program\u001b[39;49m\u001b[38;5;124;43m'\u001b[39;49m\u001b[43m]\u001b[49m\u001b[38;5;241m.\u001b[39msupportedOperations\n\u001b[1;32m     30\u001b[0m \u001b[38;5;66;03m# print the supported gate set\u001b[39;00m\n\u001b[1;32m     31\u001b[0m \u001b[38;5;28mprint\u001b[39m(\u001b[38;5;124m'\u001b[39m\u001b[38;5;124mGate set supported by the quEra device:\u001b[39m\u001b[38;5;130;01m\\n\u001b[39;00m\u001b[38;5;124m'\u001b[39m, supported_gates)\n",
      "\u001b[0;31mKeyError\u001b[0m: 'braket.ir.jaqcd.program'"
     ]
    }
   ],
   "source": [
    "# print all (the usual suspects) available gates currently available within SDK\n",
    "gate_set = [attr for attr in dir(Gate) if attr[0] in string.ascii_uppercase]\n",
    "print('Gate set supported by SDK:\\n', gate_set)\n",
    "print('\\n') \n",
    "\n",
    "# the Rigetti device\n",
    "device = AwsDevice('arn:aws:braket:us-west-1::device/qpu/rigetti/Aspen-M-2')\n",
    "supported_gates = device.properties.action['braket.ir.jaqcd.program'].supportedOperations\n",
    "# print the supported gate set\n",
    "print('Gate set supported by the Rigetti device:\\n', supported_gates)\n",
    "print('\\n') \n",
    "\n",
    "# the IonQ device\n",
    "device = AwsDevice(\"arn:aws:braket:::device/qpu/ionq/ionQdevice\")\n",
    "supported_gates = device.properties.action['braket.ir.jaqcd.program'].supportedOperations\n",
    "# print the supported gate set\n",
    "print('Gate set supported by the IonQ device:\\n', supported_gates)\n",
    "print('\\n') \n",
    "\n",
    "# the Oxford Quantum Circuits (OQC) device\n",
    "device = AwsDevice(\"arn:aws:braket:eu-west-2::device/qpu/oqc/Lucy\")\n",
    "supported_gates = device.properties.action['braket.ir.jaqcd.program'].supportedOperations\n",
    "# print the supported gate set\n",
    "print('Gate set supported by the OQC device:\\n', supported_gates)\n",
    "\n",
    "\n",
    "#the quEra device\n",
    "device = AwsDevice('arn:aws:braket:us-east-1::device/qpu/quera/Aquila')\n",
    "supported_gates = device.properties.action['braket.ir.jaqcd.program'].supportedOperations\n",
    "# print the supported gate set\n",
    "print('Gate set supported by the quEra device:\\n', supported_gates)"
   ]
  },
  {
   "cell_type": "markdown",
   "id": "f001bb31-e225-4cc7-aeaa-b1ceb9db7b8b",
   "metadata": {},
   "source": [
    "# Running the circuit\n",
    "1- Rigetti"
   ]
  },
  {
   "cell_type": "code",
   "execution_count": null,
   "id": "2721ab1b-a861-4949-992d-6fb998fc5146",
   "metadata": {},
   "outputs": [],
   "source": [
    "# set up device\n",
    "rigetti = AwsDevice(\"arn:aws:braket:us-west-1::device/qpu/rigetti/Aspen-M-2\")\n",
    "\n",
    "# create a clean circuit with no result type attached.(This is because some result types are only supported when shots=0)\n",
    "bell = Circuit().h(0).cnot(0, 1)  \n",
    "\n",
    "# add the Z \\otimes Z expectation value\n",
    "bell.expectation(Observable.Z() @ Observable.Z(), target=[0,1])\n",
    "\n",
    "# run circuit \n",
    "rigetti_task = rigetti.run(bell, s3_folder,shots=10)\n",
    "\n",
    "# get id and status of submitted task\n",
    "rigetti_task_id = rigetti_task.id\n",
    "rigetti_status = rigetti_task.state()\n",
    "# print('ID of task:', rigetti_task_id)\n",
    "print('Status of task:', rigetti_status)\n",
    "# print status\n",
    "status = rigetti_task.state()\n",
    "print('Status of (reconstructed) task:', status)"
   ]
  },
  {
   "cell_type": "markdown",
   "id": "b52b47e4-42d7-49c2-bb45-9210a496e222",
   "metadata": {},
   "source": [
    "2- IonQ"
   ]
  },
  {
   "cell_type": "code",
   "execution_count": null,
   "id": "2399d5a8-f34e-42a6-b569-41b84c3603a2",
   "metadata": {},
   "outputs": [],
   "source": [
    "# set up device\n",
    "ionq = AwsDevice(\"arn:aws:braket:::device/qpu/ionq/ionQdevice\")\n",
    "\n",
    "# run circuit\n",
    "ionq_task = ionq.run(bell, s3_folder, shots=10)\n",
    "\n",
    "# get id and status of submitted task\n",
    "ionq_task_id = ionq_task.id\n",
    "ionq_status = ionq_task.state()\n",
    "# print('ID of task:', ionq_task_id)\n",
    "print('Status of task:', ionq_status)\n",
    "# print status\n",
    "status = ionq_task.state()\n",
    "print('Status of (reconstructed) task:', status)"
   ]
  },
  {
   "cell_type": "markdown",
   "id": "57d3be05-7004-4c09-86cc-eb8ee81d0f72",
   "metadata": {},
   "source": [
    "3- Quantum Hardware: Oxford Quantum Circuits "
   ]
  },
  {
   "cell_type": "code",
   "execution_count": null,
   "id": "2147517a-82f7-4294-8f73-3c12070f4868",
   "metadata": {},
   "outputs": [],
   "source": [
    "#set up device\n",
    "oqc = AwsDevice(\"arn:aws:braket:eu-west-2::device/qpu/oqc/Lucy\")\n",
    "\n",
    "# run circuit\n",
    "oqc_task = oqc.run(bell,s3_folder, shots=10)\n",
    "\n",
    "# get id and status of submitted task\n",
    "oqc_task_id = oqc_task.id\n",
    "oqc_status = oqc_task.state()\n",
    "print('Status of task:', oqc_status)"
   ]
  },
  {
   "cell_type": "markdown",
   "id": "957759ba-4949-4164-a6f3-c34b147c15b7",
   "metadata": {},
   "source": [
    "4- quERA"
   ]
  },
  {
   "cell_type": "code",
   "execution_count": null,
   "id": "b1eb9f11-4b5b-4c7a-9503-dcb94e978158",
   "metadata": {},
   "outputs": [],
   "source": [
    "#set up device\n",
    "qera = AwsDevice('arn:aws:braket:us-east-1::device/qpu/quera/Aquila')\n",
    "\n",
    "# run circuit\n",
    "qera_task = qera.run(bell,s3_folder, shots=10)\n",
    "\n",
    "# get id and status of submitted task\n",
    "qera_task_id = qera_task.id\n",
    "qera_status = qera_task.state()\n",
    "print('Status of task:', qera_status)"
   ]
  }
 ],
 "metadata": {
  "kernelspec": {
   "display_name": "Python 3 [Braket]",
   "language": "python",
   "name": "python3_aws_braket_kwx6dl"
  },
  "language_info": {
   "codemirror_mode": {
    "name": "ipython",
    "version": 3
   },
   "file_extension": ".py",
   "mimetype": "text/x-python",
   "name": "python",
   "nbconvert_exporter": "python",
   "pygments_lexer": "ipython3",
   "version": "3.9.10"
  }
 },
 "nbformat": 4,
 "nbformat_minor": 5
}
